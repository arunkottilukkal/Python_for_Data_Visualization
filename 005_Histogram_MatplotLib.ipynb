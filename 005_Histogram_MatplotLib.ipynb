{
 "cells": [
  {
   "cell_type": "code",
   "execution_count": null,
   "metadata": {},
   "outputs": [],
   "source": []
  },
  {
   "cell_type": "code",
   "execution_count": 48,
   "metadata": {},
   "outputs": [
    {
     "data": {
      "image/png": "[encoded data removed]",
      "text/plain": [
       "<Figure size 432x288 with 1 Axes>"
      ]
     },
     "metadata": {
      "needs_background": "light"
     },
     "output_type": "display_data"
    }
   ],
   "source": [
    "%matplotlib inline\n",
    "import matplotlib.pyplot as plt\n",
    "import pandas as pd\n",
    "import matplotlib.mlab as mlab\n",
    "import numpy as np\n",
    "\n",
    "df = pd.read_excel('files/World_Migration_2019.xlsx')\n",
    "newDF = df[['Year','Destination','India','Pakistan']]\n",
    "newDF['India'].fillna(0, inplace=True)\n",
    "newDF['Pakistan'].fillna(0, inplace=True)\n",
    "mu = 4.801812e+04\n",
    "sigma = 2.635544e+05\n",
    "newDF = newDF[(newDF['India']>0) & (newDF['Pakistan']>0) & (newDF['Destination']==\"Canada\")]\n",
    "num_bins = len(newDF['India'])\n",
    "x = list(map(int,newDF['India']))\n",
    "# count, edge = np.histogram(newDF['India'])\n",
    "\n",
    "# newDF['India'].plot(kind='hist', xticks = edge)\n",
    "newDF['India'].plot(kind='hist')\n",
    "plt.title('')\n",
    "plt.xlabel(\"No(Immigrants)\")\n",
    "plt.show()\n",
    "\n",
    "\n",
    "# n, bins, patches = plt.hist(x, num_bins, normed=1, facecolor='blue', alpha=0.5)\n",
    "\n",
    "# y = mlab.normpdf(bins, mu, sigma)\n",
    "# plt.plot(bins, y, 'r--')\n",
    "# plt.xlabel('Smarts')\n",
    "# plt.ylabel('Probability')\n",
    "# plt.title(r'Histogram of IQ: $\\mu=100$, $\\sigma=15$')\n",
    "\n",
    "# # Tweak spacing to prevent clipping of ylabel\n",
    "# plt.subplots_adjust(left=0.15)\n",
    "# plt.show()\n",
    "\n",
    "\n",
    "# newDF.head()"
   ]
  },
  {
   "cell_type": "code",
   "execution_count": null,
   "metadata": {},
   "outputs": [],
   "source": []
  }
 ],
 "metadata": {
  "kernelspec": {
   "display_name": "Python 3",
   "language": "python",
   "name": "python3"
  },
  "language_info": {
   "codemirror_mode": {
    "name": "ipython",
    "version": 3
   },
   "file_extension": ".py",
   "mimetype": "text/x-python",
   "name": "python",
   "nbconvert_exporter": "python",
   "pygments_lexer": "ipython3",
   "version": "3.7.3"
  }
 },
 "nbformat": 4,
 "nbformat_minor": 2
}
